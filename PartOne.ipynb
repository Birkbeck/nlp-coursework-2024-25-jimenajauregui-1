{
 "cells": [
  {
   "cell_type": "code",
   "execution_count": 12,
   "metadata": {},
   "outputs": [
    {
     "name": "stderr",
     "output_type": "stream",
     "text": [
      "[nltk_data] Downloading package punkt to /Users/jimena/nltk_data...\n",
      "[nltk_data]   Package punkt is already up-to-date!\n",
      "[nltk_data] Downloading package cmudict to /Users/jimena/nltk_data...\n",
      "[nltk_data]   Package cmudict is already up-to-date!\n"
     ]
    },
    {
     "data": {
      "text/plain": [
       "True"
      ]
     },
     "execution_count": 12,
     "metadata": {},
     "output_type": "execute_result"
    }
   ],
   "source": [
    "#Re-assessment template 2025\n",
    "\n",
    "# Note: The template functions here and the dataframe format for structuring your solution is a suggested but not mandatory approach. You can use a different approach if you like, as long as you clearly answer the questions and communicate your answers clearly.\n",
    "\n",
    "import nltk\n",
    "import spacy\n",
    "import pandas as pd\n",
    "import re\n",
    "import pickle\n",
    "\n",
    "\n",
    "from pathlib import Path\n",
    "from nltk.tokenize import word_tokenize, sent_tokenize\n",
    "from string import punctuation\n",
    "from nltk.corpus import cmudict\n",
    "\n",
    "\n",
    "nltk.download('punkt')\n",
    "nltk.download('cmudict')"
   ]
  },
  {
   "cell_type": "code",
   "execution_count": 13,
   "metadata": {},
   "outputs": [],
   "source": [
    "nlp = spacy.load(\"en_core_web_sm\")\n",
    "nlp.max_length = 2000000"
   ]
  },
  {
   "cell_type": "code",
   "execution_count": 14,
   "metadata": {},
   "outputs": [
    {
     "name": "stdout",
     "output_type": "stream",
     "text": [
      "                                                 text  \\\n",
      "0   \\nCHAPTER 1\\n\\nThe family of Dashwood had long...   \n",
      "1   'Wooed and married and a'.'\\n'Edith!' said Mar...   \n",
      "2   Book the First--Recalled to Life\\n\\n\\n\\n\\nI. T...   \n",
      "3   SAMUEL BUTLER.\\nAugust 7, 1901\\n\\nCHAPTER I: W...   \n",
      "4   THE AMERICAN\\n\\nby Henry James\\n\\n\\n1877\\n\\n\\n...   \n",
      "5   \\nThe Picture of Dorian Gray\\n\\nby\\n\\nOscar Wi...   \n",
      "6   Phase the First: The Maiden\\n\\n\\nI\\n\\n\\nOn an ...   \n",
      "7   BOOK FIRST: THE PRINCE\\n\\n\\n\\n\\nPART FIRST\\n\\n...   \n",
      "8   THE SECRET GARDEN\\n\\nBY FRANCES HODGSON BURNET...   \n",
      "9   Chapter 1\\n\\nOnce upon a time and a very good ...   \n",
      "10  \\nTHE BLACK MOTH\\n\\nA ROMANCE OF THE XVIII CEN...   \n",
      "11  ORLANDO\\n\\nA BIOGRAPHY\\n\\nBY\\n\\nVIRGINIA WOOLF...   \n",
      "12  Your ideas are terrifying and your hearts are ...   \n",
      "\n",
      "                       title    author  year  \n",
      "0      Sense_and_Sensibility    Austen  1811  \n",
      "1            North_and_South   Gaskell  1855  \n",
      "2       A_Tale_of_Two_Cities   Dickens  1858  \n",
      "3                    Erewhon    Butler  1872  \n",
      "4               The_American     James  1877  \n",
      "5                Dorian_Gray     Wilde  1890  \n",
      "6   Tess_of_the_DUrbervilles     Hardy  1891  \n",
      "7            The_Golden_Bowl     James  1904  \n",
      "8          The_Secret_Garden   Burnett  1911  \n",
      "9     Portrait_of_the_Artist     Joyce  1916  \n",
      "10            The_Black_Moth     Heyer  1926  \n",
      "11                   Orlando     Woolf  1928  \n",
      "12            Blood_Meridian  McCarthy  1930  \n"
     ]
    }
   ],
   "source": [
    "def read_novels(path=Path.cwd() / \"p1-texts\" / \"novels\"):\n",
    "    \"\"\"Reads texts from a directory of .txt files and returns a DataFrame with the text, title,\n",
    "    author, and year\"\"\"\n",
    "    novels_dataset = []\n",
    "\n",
    "    for file in path.glob(\"*.txt\"):\n",
    "        name = file.stem\n",
    "        title, author, year = name.split(\"-\")\n",
    "\n",
    "        with open(file, encoding=\"utf-8\") as txt:\n",
    "            text = txt.read()\n",
    "\n",
    "        novels_dataset.append({\n",
    "            \"text\": text,\n",
    "            \"title\": title,\n",
    "            \"author\": author,\n",
    "            \"year\": year\n",
    "        })\n",
    "    df = pd.DataFrame(novels_dataset, columns=[\"text\", \"title\", \"author\", \"year\"])\n",
    "\n",
    "    df = df.sort_values(by=\"year\").reset_index(drop=True)\n",
    "\n",
    "    return df\n",
    "\n",
    "df = read_novels()\n",
    "print(df)"
   ]
  },
  {
   "cell_type": "code",
   "execution_count": 15,
   "metadata": {},
   "outputs": [
    {
     "name": "stdout",
     "output_type": "stream",
     "text": [
      "{'Sense_and_Sensibility': 0.05850947122065384, 'North_and_South': 0.06580904022624899, 'A_Tale_of_Two_Cities': 0.07287318093056312, 'Erewhon': 0.09698006527621059, 'The_American': 0.06756581683792795, 'Dorian_Gray': 0.08498209005457125, 'Tess_of_the_DUrbervilles': 0.08015054009113641, 'The_Golden_Bowl': 0.04813433820231636, 'The_Secret_Garden': 0.056573232870154, 'Portrait_of_the_Artist': 0.10970434538631502, 'The_Black_Moth': 0.07621856866537717, 'Orlando': 0.11753228191839728, 'Blood_Meridian': 0.08562941459421598}\n",
      "{'Orlando': 0.11753228191839728, 'Portrait_of_the_Artist': 0.10970434538631502, 'Erewhon': 0.09698006527621059, 'Blood_Meridian': 0.08562941459421598, 'Dorian_Gray': 0.08498209005457125, 'Tess_of_the_DUrbervilles': 0.08015054009113641, 'The_Black_Moth': 0.07621856866537717, 'A_Tale_of_Two_Cities': 0.07287318093056312, 'The_American': 0.06756581683792795, 'North_and_South': 0.06580904022624899, 'Sense_and_Sensibility': 0.05850947122065384, 'The_Secret_Garden': 0.056573232870154, 'The_Golden_Bowl': 0.04813433820231636}\n"
     ]
    }
   ],
   "source": [
    "def nltk_ttr(text):\n",
    "    \"\"\"Calculates the type-token ratio of a text. Text is tokenized using nltk.word_tokenize.\"\"\"\n",
    "    ttr_dict = {}\n",
    "\n",
    "    for _, row in df.iterrows():\n",
    "        text = row['text']\n",
    "        title = row['title']\n",
    "\n",
    "        tokens = word_tokenize(text)\n",
    "\n",
    "        tokens = [token.lower() for token in tokens if token not in punctuation]\n",
    "\n",
    "        types = set(tokens)\n",
    "        ttr = len(types) / len(tokens)\n",
    "\n",
    "        ttr_dict[title] = ttr\n",
    "\n",
    "    return ttr_dict\n",
    "\n",
    "df = read_novels()\n",
    "ttr_by_novel = nltk_ttr(df)\n",
    "print(ttr_by_novel)\n",
    "#TTR sorted in descending order. Shows grade of lexical diversity within a text.\n",
    "\n",
    "sorted_ttr = dict(sorted(ttr_by_novel.items(), key=lambda item: item[1], reverse=True))\n",
    "print(sorted_ttr)\n"
   ]
  },
  {
   "cell_type": "code",
   "execution_count": 16,
   "metadata": {},
   "outputs": [],
   "source": [
    "cmu_dict = cmudict.dict()\n",
    "\n",
    "def dict_of_syl():\n",
    "    \"\"\"Returns a dictionary mapping words to their syllable counts based on the CMU dictionary\"\"\"\n",
    "    cmu = cmudict.dict()\n",
    "    syl_dict = {}\n",
    "\n",
    "    for word, pronunciations in cmu.items():\n",
    "        # Vowel sounds in CMU have numbers at the end. If that is True count 1 syllable. \n",
    "        syllable_counts = [sum(phoneme[-1].isdigit() for phoneme in pron)\n",
    "        for pron in pronunciations]\n",
    "        # A word may have multiple pronunciations. Get the simplest form.\n",
    "        syl_dict[word.lower()] = min(syllable_counts)\n",
    "\n",
    "    return syl_dict\n",
    "\n",
    "d = dict_of_syl()\n",
    "\n",
    "# print(d['novels'])\n"
   ]
  },
  {
   "cell_type": "code",
   "execution_count": 17,
   "metadata": {},
   "outputs": [],
   "source": [
    "def count_syl(word, d):\n",
    "    \"\"\"Counts the number of syllables in a word given a dictionary of syllables per word.\n",
    "    if the word is not in the dictionary, syllables are estimated by counting vowel clusters\n",
    "\n",
    "    Args:\n",
    "        word (str): The word to count syllables for.\n",
    "        d (dict): A dictionary of syllables per word.\n",
    "\n",
    "    Returns:\n",
    "        int: The number of syllables in the word.\n",
    "    \"\"\"\n",
    "    word = word.lower()\n",
    "\n",
    "    if word in d:\n",
    "        return d[word]\n",
    "    \n",
    "    # Syllables by counting vowel clusters. 'Y' can sometimes act as a vowel in English\n",
    "    syl_by_vowels = len(re.findall(r'[aeiouy]+', word))\n",
    "\n",
    "    return syl_by_vowels"
   ]
  },
  {
   "cell_type": "code",
   "execution_count": 18,
   "metadata": {},
   "outputs": [],
   "source": [
    "def fk_level(text, d):\n",
    "    \"\"\"Returns the Flesch-Kincaid Grade Level of a text (higher grade is more difficult).\n",
    "    Requires a dictionary of syllables per word.\n",
    "\n",
    "    Args:\n",
    "        text (str): The text to analyze.\n",
    "        d (dict): A dictionary of syllables per word.\n",
    "\n",
    "    Returns:\n",
    "        float: The Flesch-Kincaid Grade Level of the text. (higher grade is more difficult)\n",
    "    \"\"\"\n",
    "    sentences = sent_tokenize(text)\n",
    "    words = word_tokenize(text)\n",
    "\n",
    "    # Filter out punctuation tokens\n",
    "    words = [word for word in words if re.search(r'\\w', word)]\n",
    "\n",
    "    num_sentences = len(sentences)\n",
    "    num_words = len(words)\n",
    "    # Uses the count_syl function\n",
    "    num_syllables = sum(count_syl(word, d) for word in words)\n",
    "\n",
    "    # According to the Flesch-Kincaid Grade Level formula\n",
    "    fk_grade = 0.39 * (num_words / num_sentences) + 11.8 * (num_syllables / num_words) - 15.59\n",
    "    return fk_grade\n",
    "\n",
    "# text = \"This is an example of the Flesch-Kincaid Grade Level. It estimates the school grade needed to understand a text.\"\n",
    "# fk = fk_level(text, d)\n",
    "# print(fk)"
   ]
  },
  {
   "cell_type": "code",
   "execution_count": 19,
   "metadata": {},
   "outputs": [
    {
     "data": {
      "text/plain": [
       "'\"\\nExample:\\ndf = read_novels()\\nd = dict_of_syl()\\nfk_grades = flesch_kincaid(df, d)\\n# Sorted by highest to lowest grade\\nfor title, grade in sorted(fk_grades.items(), key=lambda x: x[1], reverse=True):\\n    print(f\"{title}: {grade:.2f}\")\\n'"
      ]
     },
     "execution_count": 19,
     "metadata": {},
     "output_type": "execute_result"
    }
   ],
   "source": [
    "def flesch_kincaid(df, d):\n",
    "    \"\"\"Returns a dictionary mapping novel titles to their Flesch-Kincaid grade level.\n",
    "    Args:\n",
    "        df: DataFrame including 'title' and 'text' columns.\n",
    "        d: Dictionary of syllables per word.\n",
    "    Returns:\n",
    "        dict: {title: flesch_kincaid_grade}\n",
    "    \"\"\"\n",
    "    fk_grade = {}\n",
    "\n",
    "    for _, row in df.iterrows():\n",
    "        title = row['title']\n",
    "        text = row['text']\n",
    "        fk_grade[title] = fk_level(text, d)\n",
    "\n",
    "    return fk_grade\n",
    "\n",
    "\"\"\"\"\n",
    "Example:\n",
    "df = read_novels()\n",
    "d = dict_of_syl()\n",
    "fk_grades = flesch_kincaid(df, d)\n",
    "# Sorted by highest to lowest grade\n",
    "for title, grade in sorted(fk_grades.items(), key=lambda x: x[1], reverse=True):\n",
    "    print(f\"{title}: {grade:.2f}\")\n",
    "\"\"\""
   ]
  },
  {
   "cell_type": "code",
   "execution_count": 26,
   "metadata": {},
   "outputs": [
    {
     "name": "stdout",
     "output_type": "stream",
     "text": [
      "Maximun text length: 1158935 characters\n"
     ]
    }
   ],
   "source": [
    "# Check the longest text length in our dataset\n",
    "df[\"text_length\"] = df[\"text\"].apply(len)\n",
    "max_length = df[\"text_length\"].max()\n",
    "print(f\"Maximun text length: {max_length} characters\")\n"
   ]
  },
  {
   "cell_type": "code",
   "execution_count": null,
   "metadata": {},
   "outputs": [
    {
     "name": "stdout",
     "output_type": "stream",
     "text": [
      "Longest text number of tokens: 273574\n"
     ]
    }
   ],
   "source": [
    "def parse(df, store_path=Path.cwd() / \"pickles\", out_name=\"parsed.pickle\"):\n",
    "    \"\"\"Parses the text of a DataFrame using spaCy, stores the parsed docs as a column and writes \n",
    "    the resulting  DataFrame to a pickle file\"\"\"\n",
    "\n",
    "    nlp = spacy.load(\"en_core_web_sm\")\n",
    "\n",
    "    max_length = df[\"text\"].apply(len).max()\n",
    "\n",
    "    # Add nlp.max_length after cheking the longest text in the dataset (1158935 char) nlp.max_length default 1000000.\n",
    "    if max_length > nlp.max_length:\n",
    "        nlp.max_length = max_length + 500\n",
    "    \n",
    "    df[\"parsed\"] = df[\"text\"].apply(nlp)\n",
    "    \n",
    "    pickle_path = store_path / out_name\n",
    "    with open(pickle_path, \"wb\") as f:\n",
    "        pickle.dump(df, f)\n",
    "    \n",
    "    return df\n",
    "\n",
    "\n",
    "\"\"\" Check printing for longest text\n",
    "longest_text = df.loc[df[\"text_length\"].idxmax(), \"text\"]\n",
    "parsed_lt = nlp(longest_text)\n",
    "print(f\"Longest text number of tokens: {len(parsed_lt)}\")\n",
    "\"\"\"\n"
   ]
  },
  {
   "cell_type": "code",
   "execution_count": null,
   "metadata": {},
   "outputs": [],
   "source": [
    "def get_ttrs(df):\n",
    "    \"\"\"helper function to add ttr to a dataframe\"\"\"\n",
    "    results = {}\n",
    "    for i, row in df.iterrows():\n",
    "        results[row[\"title\"]] = nltk_ttr(row[\"text\"])\n",
    "    return results"
   ]
  },
  {
   "cell_type": "code",
   "execution_count": null,
   "metadata": {},
   "outputs": [],
   "source": [
    "def get_fks(df):\n",
    "    \"\"\"helper function to add fk scores to a dataframe\"\"\"\n",
    "    results = {}\n",
    "    cmudict = nltk.corpus.cmudict.dict()\n",
    "    for i, row in df.iterrows():\n",
    "        results[row[\"title\"]] = round(fk_level(row[\"text\"], cmudict), 4)\n",
    "    return results"
   ]
  },
  {
   "cell_type": "code",
   "execution_count": null,
   "metadata": {},
   "outputs": [],
   "source": [
    "def subjects_by_verb_pmi(doc, target_verb):\n",
    "    \"\"\"Extracts the most common subjects of a given verb in a parsed document. Returns a list.\"\"\"\n",
    "    pass"
   ]
  },
  {
   "cell_type": "code",
   "execution_count": null,
   "metadata": {},
   "outputs": [],
   "source": [
    "def subjects_by_verb_count(doc, verb):\n",
    "    \"\"\"Extracts the most common subjects of a given verb in a parsed document. Returns a list.\"\"\"\n",
    "    pass\n"
   ]
  },
  {
   "cell_type": "code",
   "execution_count": null,
   "metadata": {},
   "outputs": [],
   "source": [
    "def adjective_counts(doc):\n",
    "    \"\"\"Extracts the most common adjectives in a parsed document. Returns a list of tuples.\"\"\"\n",
    "    pass"
   ]
  },
  {
   "cell_type": "code",
   "execution_count": null,
   "metadata": {},
   "outputs": [],
   "source": [
    "if __name__ == \"__main__\":\n",
    "    \"\"\"\n",
    "    uncomment the following lines to run the functions once you have completed them\n",
    "    \"\"\"\n",
    "    #path = Path.cwd() / \"p1-texts\" / \"novels\"\n",
    "    #print(path)\n",
    "    #df = read_novels(path) # this line will fail until you have completed the read_novels function above.\n",
    "    #print(df.head())\n",
    "    #nltk.download(\"cmudict\")\n",
    "    #parse(df)\n",
    "    #print(df.head())\n",
    "    #print(get_ttrs(df))\n",
    "    #print(get_fks(df))\n",
    "    #df = pd.read_pickle(Path.cwd() / \"pickles\" /\"name.pickle\"\n",
    "    # print(adjective_counts(df))\n",
    "    \"\"\" \n",
    "    for i, row in df.iterrows():\n",
    "        print(row[\"title\"])\n",
    "        print(subjects_by_verb_count(row[\"parsed\"], \"hear\"))\n",
    "        print(\"\\n\")\n",
    "\n",
    "    for i, row in df.iterrows():\n",
    "        print(row[\"title\"])\n",
    "        print(subjects_by_verb_pmi(row[\"parsed\"], \"hear\"))\n",
    "        print(\"\\n\")\n",
    "    \"\"\""
   ]
  }
 ],
 "metadata": {
  "kernelspec": {
   "display_name": "Python 3",
   "language": "python",
   "name": "python3"
  },
  "language_info": {
   "codemirror_mode": {
    "name": "ipython",
    "version": 3
   },
   "file_extension": ".py",
   "mimetype": "text/x-python",
   "name": "python",
   "nbconvert_exporter": "python",
   "pygments_lexer": "ipython3",
   "version": "3.12.3"
  }
 },
 "nbformat": 4,
 "nbformat_minor": 2
}
