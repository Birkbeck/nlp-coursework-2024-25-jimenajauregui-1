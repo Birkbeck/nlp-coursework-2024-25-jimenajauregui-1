{
 "cells": [
  {
   "cell_type": "code",
   "execution_count": 2,
   "id": "11ad6c29",
   "metadata": {},
   "outputs": [],
   "source": [
    "import pandas as pd\n"
   ]
  },
  {
   "cell_type": "code",
   "execution_count": 16,
   "id": "531f9ad5",
   "metadata": {},
   "outputs": [
    {
     "name": "stdout",
     "output_type": "stream",
     "text": [
      "Number of rows: 7815\n",
      "Number of columns: 8\n"
     ]
    }
   ],
   "source": [
    "df = pd.read_csv(\"p2-texts/hansard40000.csv\")\n",
    "\n",
    "df['party'] = df['party'].replace({'Labour (Co-op)': 'Labour'})\n",
    "# print(df['party'].unique())\n",
    "\n",
    "party_counts = df['party'].value_counts()\n",
    "main_parties = party_counts.nlargest(4).index.tolist()\n",
    "df = df[df['party'].isin(main_parties)]\n",
    "# print(df['party'].value_counts())\n",
    "\n",
    "# 4th party 'Speaker'. Remove it.\n",
    "df = df[df['party'] != 'Speaker']\n",
    "# print(df['party'].value_counts())\n",
    "\n",
    "df = df[df[\"speech_class\"] == \"Speech\"]\n",
    "speech_lengths = df[\"speech\"].str.len()\n",
    "speeches = speech_lengths >= 1000\n",
    "df = df[speeches]\n",
    "\n",
    "rows, columns = df.shape\n",
    "print(f\"Number of rows: {rows}\")\n",
    "print(f\"Number of columns: {columns}\")\n",
    "\n",
    "\n"
   ]
  }
 ],
 "metadata": {
  "kernelspec": {
   "display_name": "Python 3",
   "language": "python",
   "name": "python3"
  },
  "language_info": {
   "codemirror_mode": {
    "name": "ipython",
    "version": 3
   },
   "file_extension": ".py",
   "mimetype": "text/x-python",
   "name": "python",
   "nbconvert_exporter": "python",
   "pygments_lexer": "ipython3",
   "version": "3.12.3"
  }
 },
 "nbformat": 4,
 "nbformat_minor": 5
}
